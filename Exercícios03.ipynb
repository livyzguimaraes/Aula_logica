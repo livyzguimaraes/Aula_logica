{
 "cells": [
  {
   "cell_type": "markdown",
   "metadata": {},
   "source": [
    "exercício 1"
   ]
  },
  {
   "cell_type": "code",
   "execution_count": 1,
   "metadata": {},
   "outputs": [
    {
     "name": "stdout",
     "output_type": "stream",
     "text": [
      "sábado\n"
     ]
    }
   ],
   "source": [
    "numero = int(input('digte o numero'))\n",
    "match numero:\n",
    "    case 1 :\n",
    "        print('hoje é segunda')\n",
    "    case 2 :\n",
    "        print('hoje é terça')\n",
    "    case 3 :\n",
    "        print('hoje é quarta')\n",
    "    case 4 :\n",
    "        print('hoje é quinta')\n",
    "    case 5 :\n",
    "        print('hoje é sexta')\n",
    "    case 6 :\n",
    "        print('sábado')\n",
    "    case 7 :\n",
    "        print('hoje é domingo')        \n"
   ]
  },
  {
   "cell_type": "markdown",
   "metadata": {},
   "source": [
    "exercício 2"
   ]
  },
  {
   "cell_type": "code",
   "execution_count": 2,
   "metadata": {},
   "outputs": [
    {
     "name": "stdout",
     "output_type": "stream",
     "text": [
      "idoso\n"
     ]
    }
   ],
   "source": [
    "data = float(input('ano de nascimento'))\n",
    "idade = 2024 - data\n",
    "if idade < 10:\n",
    "    print('criança')\n",
    "elif idade >= 11 and idade <= 17:\n",
    "    print('adolescente')\n",
    "elif idade >= 18 and idade <= 59:\n",
    "    print('adulto')\n",
    "else:\n",
    "    print('idoso')\n",
    "\n"
   ]
  },
  {
   "cell_type": "markdown",
   "metadata": {},
   "source": [
    "exercício 3"
   ]
  },
  {
   "cell_type": "code",
   "execution_count": 3,
   "metadata": {},
   "outputs": [
    {
     "name": "stdout",
     "output_type": "stream",
     "text": [
      "tem 28 dias\n"
     ]
    }
   ],
   "source": [
    "nome = input('digite o nome do mês')\n",
    "match nome:  \n",
    " case 'janeiro':\n",
    "  print('tem 31 dias') \n",
    "\n",
    " case 'fevereiro':\n",
    "  print('tem 28 dias')\n",
    "\n",
    " case 'março':\n",
    "  print('tem 31 dias')\n",
    "\n",
    " case 'abril':\n",
    "  print('tem 30 dias')\n",
    "\n",
    " case 'maio':\n",
    "  print('tem 31 dias')\n",
    "\n",
    " case 'junho':\n",
    "  print('tem 30 dias')\n",
    "\n",
    " case 'julho':\n",
    "  print('tem 31 dias') \n",
    "\n",
    " case 'agosto':\n",
    "  print('tem 31 dias')\n",
    "\n",
    " case 'setembro':\n",
    "  print('tem 30 dias')\n",
    "\n",
    " case 'outubro':\n",
    "  print('tem 31 dias')\n",
    "\n",
    " case 'novembro':\n",
    "  print('tem 30 dias')\n",
    "\n",
    " case 'dezembro':\n",
    "  print('tem 31 dias')"
   ]
  },
  {
   "cell_type": "markdown",
   "metadata": {},
   "source": [
    "exercício 4"
   ]
  },
  {
   "cell_type": "code",
   "execution_count": 6,
   "metadata": {},
   "outputs": [
    {
     "name": "stdout",
     "output_type": "stream",
     "text": [
      "reprovado\n"
     ]
    }
   ],
   "source": [
    "n1= float(input('digite a nota:'))\n",
    "n2= float(input('digite a segunda nota:'))\n",
    "media= (n1 + n2) /2\n",
    "if media > 7:\n",
    "    print('aprovado')\n",
    "elif media >= 5 and media <= 7:\n",
    "    print('recuperação')\n",
    "elif media < 5:\n",
    "    print('reprovado')"
   ]
  },
  {
   "cell_type": "markdown",
   "metadata": {},
   "source": [
    "exercício 5"
   ]
  },
  {
   "cell_type": "code",
   "execution_count": null,
   "metadata": {},
   "outputs": [],
   "source": [
    "salario= "
   ]
  }
 ],
 "metadata": {
  "kernelspec": {
   "display_name": "Python 3",
   "language": "python",
   "name": "python3"
  },
  "language_info": {
   "codemirror_mode": {
    "name": "ipython",
    "version": 3
   },
   "file_extension": ".py",
   "mimetype": "text/x-python",
   "name": "python",
   "nbconvert_exporter": "python",
   "pygments_lexer": "ipython3",
   "version": "3.12.2"
  }
 },
 "nbformat": 4,
 "nbformat_minor": 2
}
