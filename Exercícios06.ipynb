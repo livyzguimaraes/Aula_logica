{
 "cells": [
  {
   "cell_type": "markdown",
   "metadata": {},
   "source": [
    "exercício 1"
   ]
  },
  {
   "cell_type": "code",
   "execution_count": 1,
   "metadata": {},
   "outputs": [
    {
     "name": "stdout",
     "output_type": "stream",
     "text": [
      "o numero 1 é par\n",
      "o numero 3 é par\n",
      "o numero 5 é par\n",
      "o numero 7 é par\n",
      "o numero 9 é par\n",
      "o numero 11 é par\n",
      "o numero 13 é par\n",
      "o numero 15 é par\n",
      "o numero 17 é par\n",
      "o numero 19 é par\n",
      "o numero 21 é par\n",
      "o numero 23 é par\n",
      "o numero 25 é par\n",
      "o numero 27 é par\n",
      "o numero 29 é par\n",
      "o numero 31 é par\n",
      "o numero 33 é par\n",
      "o numero 35 é par\n",
      "o numero 37 é par\n",
      "o numero 39 é par\n"
     ]
    }
   ],
   "source": [
    "for x in range (40) :\n",
    "    if x % 2 == 1 :\n",
    "       print(f'o numero {x} é par')"
   ]
  },
  {
   "cell_type": "markdown",
   "metadata": {},
   "source": [
    "exercício 2 Gere os 6 números do sorteio da mega-sena de forma aleatória."
   ]
  },
  {
   "cell_type": "code",
   "execution_count": 6,
   "metadata": {},
   "outputs": [
    {
     "name": "stdout",
     "output_type": "stream",
     "text": [
      "os numeros sorteados são 50\n",
      "os numeros sorteados são 30\n",
      "os numeros sorteados são 45\n",
      "os numeros sorteados são 33\n",
      "os numeros sorteados são 14\n",
      "os numeros sorteados são 60\n"
     ]
    }
   ],
   "source": [
    "import random\n",
    "for x in range(6):\n",
    "    nr = random.randint(1,60)\n",
    "    print(f'os numeros sorteados são {nr}')"
   ]
  },
  {
   "cell_type": "markdown",
   "metadata": {},
   "source": [
    "exercício 3"
   ]
  },
  {
   "cell_type": "code",
   "execution_count": 9,
   "metadata": {},
   "outputs": [
    {
     "name": "stdout",
     "output_type": "stream",
     "text": [
      "a soma é 25 são 2 pares e 3 impares\n"
     ]
    }
   ],
   "source": [
    "soma = 0 \n",
    "qtdePar = 0\n",
    "qtdeimpar = 0\n",
    "\n",
    "for x in range (5) :\n",
    "  nr = int(input('digite o valor. [0 para encerrar]'))\n",
    "  if nr == 0 :\n",
    "    break\n",
    "  if nr % 2 == 0:\n",
    "    qtdePar += 1 #qtdePar = qtdePar + 1\n",
    "  if nr % 2 == 1:\n",
    "    qtdeimpar += 1  #qtdePar = qtdePar + 1 \n",
    "  soma += nr \n",
    "\n",
    "print(f'a soma é {soma} são {qtdePar} pares e {qtdeimpar} impares')"
   ]
  },
  {
   "cell_type": "markdown",
   "metadata": {},
   "source": [
    "exercício 4"
   ]
  },
  {
   "cell_type": "markdown",
   "metadata": {},
   "source": [
    "Solicite os parâmetros de início, fim e passo para o laço de repetição usando a função range()\n",
    "e exiba o valor atual da variável de controle a cada iteração. range( x , y , z )"
   ]
  },
  {
   "cell_type": "code",
   "execution_count": 10,
   "metadata": {},
   "outputs": [
    {
     "name": "stdout",
     "output_type": "stream",
     "text": [
      "1\n",
      "3\n",
      "5\n",
      "7\n",
      "9\n"
     ]
    }
   ],
   "source": [
    "inicio = int(input('digite o valor inicial'))\n",
    "fim = int(input('digite o valor final'))\n",
    "passo = int(input('digite o passo'))\n",
    "\n",
    "for x in range (inicio, fim, passo):\n",
    "  print(x)\n",
    "\n"
   ]
  },
  {
   "cell_type": "markdown",
   "metadata": {},
   "source": [
    "Exercício 5"
   ]
  },
  {
   "cell_type": "code",
   "execution_count": 3,
   "metadata": {},
   "outputs": [
    {
     "name": "stdout",
     "output_type": "stream",
     "text": [
      "media das mulheres 15.0\n",
      "media dos homens 20.0\n",
      "media do grupo 17.5\n",
      "media das mulheres 16.5\n",
      "media dos homens 25.0\n",
      "media do grupo 20.75\n"
     ]
    }
   ],
   "source": [
    "soma_mulheres = 0\n",
    "soma_homens = 0\n",
    "qtde_mulheres = 0\n",
    "qtde_homens = 0\n",
    "for x in range(5):\n",
    "    idade = int(input('digite a idade: '))\n",
    "    sexo = input('digite o sexo: [F/M]')\n",
    "    if sexo == 'F': \n",
    "        soma_mulheres = soma_mulheres + idade\n",
    "        qtde_mulheres = qtde_mulheres + 1 \n",
    "    else :\n",
    "        soma_homens = soma_homens + idade\n",
    "        qtde_homens = qtde_homens + 1\n",
    "        print(f'media das mulheres {soma_mulheres / qtde_mulheres}')\n",
    "        print(f'media dos homens {soma_homens / qtde_homens}')\n",
    "        print(f'media do grupo {(soma_homens + soma_mulheres) / (qtde_homens + qtde_mulheres)}')\n"
   ]
  },
  {
   "cell_type": "markdown",
   "metadata": {},
   "source": [
    "Exercício 6"
   ]
  },
  {
   "cell_type": "code",
   "execution_count": 4,
   "metadata": {},
   "outputs": [
    {
     "name": "stdout",
     "output_type": "stream",
     "text": [
      "7\n",
      "14\n",
      "21\n",
      "28\n",
      "35\n",
      "42\n",
      "49\n",
      "56\n",
      "63\n",
      "70\n",
      "77\n",
      "84\n",
      "91\n",
      "98\n"
     ]
    }
   ],
   "source": [
    "for nr in range(5, 101):\n",
    "    if nr % 7 == 0 : \n",
    "        print(nr)"
   ]
  },
  {
   "cell_type": "markdown",
   "metadata": {},
   "source": [
    "exercício 7"
   ]
  },
  {
   "cell_type": "code",
   "execution_count": 12,
   "metadata": {},
   "outputs": [
    {
     "name": "stdout",
     "output_type": "stream",
     "text": [
      "subinoonibus\n"
     ]
    }
   ],
   "source": [
    "palavra = input('digite uma palavra:')\n",
    "nova_palavra = ''\n",
    "for letra in palavra :\n",
    "    nova_palavra = letra + nova_palavra\n",
    "\n",
    "print(nova_palavra)"
   ]
  }
 ],
 "metadata": {
  "kernelspec": {
   "display_name": "Python 3",
   "language": "python",
   "name": "python3"
  },
  "language_info": {
   "codemirror_mode": {
    "name": "ipython",
    "version": 3
   },
   "file_extension": ".py",
   "mimetype": "text/x-python",
   "name": "python",
   "nbconvert_exporter": "python",
   "pygments_lexer": "ipython3",
   "version": "3.12.3"
  }
 },
 "nbformat": 4,
 "nbformat_minor": 2
}
