{
 "cells": [
  {
   "cell_type": "markdown",
   "metadata": {},
   "source": [
    " 1. Leia 2 notas de um aluno, calcule a média e imprima aprovado ou reprovado (para ser aprovado a média deve ser no mínimo 7)"
   ]
  },
  {
   "cell_type": "code",
   "execution_count": 4,
   "metadata": {},
   "outputs": [
    {
     "name": "stdout",
     "output_type": "stream",
     "text": [
      "é aprovado\n"
     ]
    }
   ],
   "source": [
    "n1= float(input('digite seu numero'))\n",
    "n2= float(input('digite seu numero'))\n",
    "media= (n1+n2) / 2\n",
    "if media >= 7 :\n",
    "    print('é aprovado')\n",
    "else:\n",
    "    print('reprovado')"
   ]
  },
  {
   "cell_type": "markdown",
   "metadata": {},
   "source": [
    "exercício 2"
   ]
  },
  {
   "cell_type": "code",
   "execution_count": 8,
   "metadata": {},
   "outputs": [
    {
     "name": "stdout",
     "output_type": "stream",
     "text": [
      "é maior\n"
     ]
    }
   ],
   "source": [
    "n1= float(input('digite o primeiro numero'))\n",
    "n2= float(input('digite o segundo numero'))\n",
    "if n1 > n2 :\n",
    "    print ('é maior')\n",
    "else:\n",
    "    print ('é menor')"
   ]
  },
  {
   "cell_type": "markdown",
   "metadata": {},
   "source": [
    "exercício 3"
   ]
  },
  {
   "cell_type": "code",
   "execution_count": 10,
   "metadata": {},
   "outputs": [
    {
     "name": "stdout",
     "output_type": "stream",
     "text": [
      "é impar\n"
     ]
    }
   ],
   "source": [
    "numero= int(input(\"digite o seu numero\"))\n",
    "if numero % 2 == 0:\n",
    "    print ('é par')\n",
    "else:\n",
    "    print ('é impar')"
   ]
  },
  {
   "cell_type": "markdown",
   "metadata": {},
   "source": [
    "exercício 4"
   ]
  },
  {
   "cell_type": "code",
   "execution_count": 2,
   "metadata": {},
   "outputs": [
    {
     "name": "stdout",
     "output_type": "stream",
     "text": [
      "negativo\n"
     ]
    }
   ],
   "source": [
    "numero= int(input('digite seu numero'))\n",
    "if numero < 0: \n",
    "    print('negativo')\n",
    "else: \n",
    "    print('positivo')"
   ]
  },
  {
   "cell_type": "markdown",
   "metadata": {},
   "source": [
    "exercício 5"
   ]
  },
  {
   "cell_type": "code",
   "execution_count": 5,
   "metadata": {},
   "outputs": [
    {
     "name": "stdout",
     "output_type": "stream",
     "text": [
      "menor de idade\n"
     ]
    }
   ],
   "source": [
    "ano= int(input('digite seu ano de nascimento'))\n",
    "if ano >= 18:\n",
    "    print('menor de idade')\n",
    "else:\n",
    "    print('maior de idade')"
   ]
  },
  {
   "cell_type": "markdown",
   "metadata": {},
   "source": [
    "exercício 6"
   ]
  },
  {
   "cell_type": "code",
   "execution_count": 7,
   "metadata": {},
   "outputs": [
    {
     "name": "stdout",
     "output_type": "stream",
     "text": [
      "são iguais\n"
     ]
    }
   ],
   "source": [
    "n1= int(input('digite seu numero'))\n",
    "n2= int(input('digite o segundo numero'))\n",
    "if n1 == n2:\n",
    "    print('são iguais')\n",
    "else:\n",
    "    print('são diferentes')"
   ]
  },
  {
   "cell_type": "markdown",
   "metadata": {},
   "source": [
    "exercício 7"
   ]
  },
  {
   "cell_type": "code",
   "execution_count": 9,
   "metadata": {},
   "outputs": [
    {
     "name": "stdout",
     "output_type": "stream",
     "text": [
      "sem multa\n"
     ]
    }
   ],
   "source": [
    "velocidade= float(input('digite a velocidade'))\n",
    "if velocidade > 80:\n",
    "    taxa= velocidade-80\n",
    "    print(f'sua velocidade ultrapassou o limite de velocidade tera que pagar {taxa*7}R$')\n",
    "else:\n",
    "    print('sem multa')"
   ]
  }
 ],
 "metadata": {
  "kernelspec": {
   "display_name": "Python 3",
   "language": "python",
   "name": "python3"
  },
  "language_info": {
   "codemirror_mode": {
    "name": "ipython",
    "version": 3
   },
   "file_extension": ".py",
   "mimetype": "text/x-python",
   "name": "python",
   "nbconvert_exporter": "python",
   "pygments_lexer": "ipython3",
   "version": "3.12.2"
  }
 },
 "nbformat": 4,
 "nbformat_minor": 2
}
