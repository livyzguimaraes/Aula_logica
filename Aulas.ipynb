{
 "cells": [
  {
   "cell_type": "markdown",
   "metadata": {},
   "source": [
    "Aula 15/02 - Comandos de saída (print) / Tipos de dados (string, int, float, bool) / operções Aritiméticas (+ - * / % **)"
   ]
  },
  {
   "cell_type": "code",
   "execution_count": 13,
   "metadata": {},
   "outputs": [
    {
     "name": "stdout",
     "output_type": "stream",
     "text": [
      "meu primeiro código em python. Usndo aspas duplasPROCEDIMENTO PARA PEGAR O NOTEBOOK- Lívyhan n17.docx\n",
      "meu primeiro código em python. usando aspas duplas\n",
      "para duplicar uma linha pressionei shift + alt + seta baixo\n",
      "123\n",
      "70.5\n",
      "olá mundo!!!\n",
      "True\n",
      "sesi\n",
      "14\n",
      "86\n"
     ]
    },
    {
     "ename": "NameError",
     "evalue": "name 'false' is not defined",
     "output_type": "error",
     "traceback": [
      "\u001b[1;31m---------------------------------------------------------------------------\u001b[0m",
      "\u001b[1;31mNameError\u001b[0m                                 Traceback (most recent call last)",
      "Cell \u001b[1;32mIn[13], line 18\u001b[0m\n\u001b[0;32m     15\u001b[0m \u001b[38;5;28mprint\u001b[39m(\u001b[38;5;124m'\u001b[39m\u001b[38;5;124m8\u001b[39m\u001b[38;5;124m'\u001b[39m \u001b[38;5;241m+\u001b[39m \u001b[38;5;124m'\u001b[39m\u001b[38;5;124m6\u001b[39m\u001b[38;5;124m'\u001b[39m)\n\u001b[0;32m     17\u001b[0m \u001b[38;5;66;03m#posso imprimir várias informações ao mesmo tempo separando-as por,\u001b[39;00m\n\u001b[1;32m---> 18\u001b[0m \u001b[38;5;28mprint\u001b[39m(\u001b[38;5;124m'\u001b[39m\u001b[38;5;124mstring\u001b[39m\u001b[38;5;124m'\u001b[39m, \u001b[38;5;241m10\u001b[39m, \u001b[38;5;241m70.5\u001b[39m, \u001b[43mfalse\u001b[49m) \n\u001b[0;32m     20\u001b[0m \u001b[38;5;28mprint\u001b[39m( \u001b[38;5;241m10\u001b[39m \u001b[38;5;241m+\u001b[39m \u001b[38;5;241m50\u001b[39m) \u001b[38;5;66;03m# + é o operador de SOMA ( número inteiro ou decimal)\u001b[39;00m\n\u001b[0;32m     21\u001b[0m \u001b[38;5;28mprint\u001b[39m( \u001b[38;5;241m67\u001b[39m \u001b[38;5;241m-\u001b[39m \u001b[38;5;241m13\u001b[39m) \u001b[38;5;66;03m# - é o operador de SUBTRAÇÃO (n° inteiro ou decimal)\u001b[39;00m\n",
      "\u001b[1;31mNameError\u001b[0m: name 'false' is not defined"
     ]
    }
   ],
   "source": [
    "#a função print serve para exibir na tela alguma mensagem\n",
    "print(\"meu primeiro código em python. Usndo aspas duplas\"\"PROCEDIMENTO PARA PEGAR O NOTEBOOK- Lívyhan n17.docx\")\n",
    "print(\"meu primeiro código em python. usando aspas duplas\")\n",
    "print('para duplicar uma linha pressionei shift + alt + seta baixo')\n",
    "print(123) #Estou exibindo um número inteiro, por isso, não preciso da \"\"PROCEDIMENTO PARA PEGAR O NOTEBOOK- Lívyhan n17.docx\"\"\n",
    "print(70.5) #número float\n",
    "print('olá mundo!!!')\n",
    "print(True) #campo lógico (verdadeiro ou falso) (true ou false)\n",
    "print(\"sesi\") #tipo string\n",
    "\n",
    "# somando 2 números inteiros (o sinal de + para 2 números realiza a SOMA)\n",
    "print(8 + 6)\n",
    "\n",
    "# porém se forem 2 strings (o sinal de + realiza a CONCATENAÇÃO)\n",
    "print('8' + '6')\n",
    "\n",
    "#posso imprimir várias informações ao mesmo tempo separando-as por,\n",
    "print('string', 10, 70.5, false) \n",
    "\n",
    "print( 10 + 50) # + é o operador de SOMA ( número inteiro ou decimal)\n",
    "print( 67 - 13) # - é o operador de SUBTRAÇÃO (n° inteiro ou decimal)\n",
    "print( 4214328 * 312321) # é o operador de MULTIPLICAÇÃO\n",
    "print( 4827/3) # é o operador de DIVISÃO\n",
    "print( 31 % 2) # % é operador do resto da divisão (MÓDULO)\n",
    "print( 3 ** 3) # ** é o operador de exponenciação 3³)\n",
    "\n",
    "print( (8 + 6 ) / 2 ) #o parênteses define a maior ordem de precedência"
   ]
  },
  {
   "cell_type": "markdown",
   "metadata": {},
   "source": [
    "Aula 22/02/2024 - Comandos de entrada (input) /variáveis/pseudocódigo"
   ]
  },
  {
   "cell_type": "code",
   "execution_count": null,
   "metadata": {},
   "outputs": [
    {
     "name": "stdout",
     "output_type": "stream",
     "text": [
      "curso\n",
      "desenvolvimento de sistemas\n",
      "curso desenvolvimento de sistemas\n",
      "Olá Lívyhan você tem 15 hoje está fazendo 23.5 °c\n",
      "Olá Lívyhan, você tem 15 anos, e hoje está fazendo 23.5?c\n",
      "Lívyhan 15\n",
      "Faustão 15\n",
      "livy 15 56.0\n",
      "seu nome é livy, você tem 15 anos e pesa 56.0kg\n",
      "<class 'str'> <class 'int'> <class 'float'>\n"
     ]
    }
   ],
   "source": [
    "#Declarando minha primeira variável\n",
    "#Lemos da seguinte forma:\n",
    "#variavel curso recebe (=) a string \"Desenvolvimento de sistemas\"\n",
    "curso = \"desenvolvimento de sistemas\"\n",
    "#Receba/Armazene o texto Desenvolvimento de sistemas \n",
    "curso = \"desenvolvimento de sistemas\"\n",
    "#Exiba o valor armazenado \n",
    "print(\"curso\") # Para imprimir uma variável não se coloca entre \"\"\n",
    "print(curso)   # Jeito correto de utilizar uma variável \n",
    "print(\"curso\", curso) \n",
    "\n",
    "#Criando e atribuindo uma variável \n",
    "idade =15 \n",
    "temperatura = 23.5 \n",
    "nome = \"Lívyhan\"\n",
    "#Exiba o valor das 3 variáveis \n",
    "print(\"Olá\", nome, \"você tem\", idade, \"hoje está fazendo\", temperatura, \"°c\")\n",
    "print(f'Olá {nome}, você tem {idade} anos, e hoje está fazendo {temperatura}?c')\n",
    "\n",
    "#Declarando variáveis lógicas, recebe apenas true ou false\n",
    "chovendo = False \n",
    "dia = True\n",
    "\n",
    "\n",
    "# nessa linha abaixo ocorrerá um erro pois não existe uma variável com o\n",
    "# nome salário, então não consegue encontrar nada para exibir \n",
    "# NameError: name 'salario' is not defied \n",
    "# print (\"salario\", salario)\n",
    "\n",
    "# declarando um constante , diferentemente da variável que posso alterar o valor \n",
    "# na constante não é permitido, declaramos com o nome todo em maiúscula \n",
    "PI = 3.1415 \n",
    "\n",
    "print(nome,idade)\n",
    "idade = 15\n",
    "nome = 'Faustão'\n",
    "print(nome, idade)\n",
    "\n",
    "#passo1: Reeceber o nome da pessoa \n",
    "#Numa input sempre recebemos uma string\n",
    "nome = input('qual é o seu nome?')\n",
    "\n",
    "#passo2: Receber a idade da pessoa\n",
    "#Posso converter essa string recebida do tipo inteiro \n",
    "idade = int(input('qual é a sua idade?'))\n",
    "\n",
    "#passo3: Receber o peso da pessoa\n",
    "#Posso converter essa string recebida do tipo float\n",
    "peso = float(input('qual é o seu peso?'))\n",
    "\n",
    "#passo4: Exibir o nome, idade e peso\n",
    "print (nome, idade, peso)\n",
    "print (f'seu nome é {nome}, você tem {idade} anos e pesa {peso}kg')\n",
    "\n",
    "# Exibindo os tipos das variáveis \n",
    "# Tudo o que recebemos do input é do tipo string\n",
    "print(type(nome), type(idade), type(peso))\n",
    "\n"
   ]
  },
  {
   "cell_type": "markdown",
   "metadata": {},
   "source": [
    "23/02/2024- Operações com variáveis"
   ]
  },
  {
   "cell_type": "code",
   "execution_count": null,
   "metadata": {},
   "outputs": [
    {
     "name": "stdout",
     "output_type": "stream",
     "text": [
      "13.0\n",
      "<class 'float'>\n"
     ]
    }
   ],
   "source": [
    "#Reecebero primeiro número\n",
    "numero1 = float(input('digite o primeiro número:'))\n",
    "\n",
    "#Receber o segundo número\n",
    "numero2 = float(input('digite seu número:'))\n",
    "\n",
    "#Receber o terceiro número\n",
    "numero3 = float(input('digite o terceiro número: '))\n",
    "\n",
    "#Soma o primeiro número + o segundo número\n",
    "soma= numero1 + numero2 + numero3\n",
    "\n",
    "#Exibir resultado\n",
    "print(soma)\n",
    "print(type(soma))\n"
   ]
  },
  {
   "cell_type": "code",
   "execution_count": null,
   "metadata": {},
   "outputs": [
    {
     "name": "stdout",
     "output_type": "stream",
     "text": [
      "30000.0\n",
      "200.0\n"
     ]
    }
   ],
   "source": [
    "numero1 = float(input('digite seu numero: '))\n",
    "numero2 = float(input('digite seu numero: '))\n",
    "\n",
    "resultado=numero1*numero2\n",
    "print (resultado)\n",
    "\n",
    "#passo1: receber o preço do celular\n",
    "preço= float(input('digite seu numero: '))\n",
    "\n",
    "#passo2: receber o valor de desconto\n",
    "desconto= float(input('digite seu numero:  '))\n",
    "\n",
    "#atualizando o valor do produto com o desconto\n",
    "#?????????????????????\n",
    "\n",
    "#passo3: calcular o novo valor do celular\n",
    "novo_preço= preço - desconto \n",
    "print(resultado)\n"
   ]
  },
  {
   "cell_type": "code",
   "execution_count": null,
   "metadata": {},
   "outputs": [
    {
     "ename": "TypeError",
     "evalue": "'float' object is not callable",
     "output_type": "error",
     "traceback": [
      "\u001b[1;31m---------------------------------------------------------------------------\u001b[0m",
      "\u001b[1;31mTypeError\u001b[0m                                 Traceback (most recent call last)",
      "Cell \u001b[1;32mIn[7], line 2\u001b[0m\n\u001b[0;32m      1\u001b[0m numero\u001b[38;5;241m=\u001b[39m \u001b[38;5;241m4\u001b[39m\u001b[38;5;241m/\u001b[39m\u001b[38;5;241m2\u001b[39m\n\u001b[1;32m----> 2\u001b[0m \u001b[38;5;28;43mprint\u001b[39;49m\u001b[43m \u001b[49m\u001b[43m(\u001b[49m\u001b[43mnumero\u001b[49m\u001b[43m)\u001b[49m\n\u001b[0;32m      4\u001b[0m numero\u001b[38;5;241m=\u001b[39m numero\u001b[38;5;241m*\u001b[39m\u001b[38;5;241m*\u001b[39m\u001b[38;5;241m2\u001b[39m\n\u001b[0;32m      5\u001b[0m \u001b[38;5;28mprint\u001b[39m\u001b[38;5;241m=\u001b[39m (numero)\n",
      "\u001b[1;31mTypeError\u001b[0m: 'float' object is not callable"
     ]
    }
   ],
   "source": [
    "numero= 4/2\n",
    "print (numero)\n",
    "\n",
    "numero= numero**2\n",
    "print= (numero)\n",
    "\n",
    "numero= numero *(50-20)\n",
    "print (numero)\n",
    "print(f'o valor final é {numero}')"
   ]
  },
  {
   "cell_type": "code",
   "execution_count": null,
   "metadata": {},
   "outputs": [
    {
     "name": "stdout",
     "output_type": "stream",
     "text": [
      "você deve cobrar R$ 12000\n"
     ]
    }
   ],
   "source": [
    "#passo1: descobrir quantas horas de trabalho vamos usar no projeto 8hx15\n",
    "#passo2: pegar o custo de uma hora de trabalho e multiplicar pelo resultado do passo 1\n",
    "#100rs\n",
    "#passo3: exibir o resultado final do custo do projeto\n",
    "\n",
    "horas_por_dia= 8\n",
    "dias_totais= 15\n",
    "horas_trabalho=horas_por_dia* dias_totais\n",
    "custo_hora= 100\n",
    "custo_total= horas_trabalho * custo_hora\n",
    "print(f'você deve cobrar R$ {custo_total}')"
   ]
  },
  {
   "cell_type": "code",
   "execution_count": null,
   "metadata": {},
   "outputs": [
    {
     "name": "stdout",
     "output_type": "stream",
     "text": [
      "21.0\n",
      "<class 'float'>\n"
     ]
    }
   ],
   "source": [
    "#Reecebero primeiro número\n",
    "numero1 = float(input('digite o primeiro número:'))\n",
    "\n",
    "#Receber o segundo número\n",
    "numero2 = float(input('digite seu número:'))\n",
    "\n",
    "#Receber o terceiro número\n",
    "numero3 = float(input('digite o terceiro número:'))\n",
    "\n",
    "#Soma o primeiro número + o segundo número\n",
    "soma= numero1 + numero2 + numero3\n",
    "\n",
    "#Exibir resultado\n",
    "print(soma)\n",
    "print(type(soma))\n"
   ]
  },
  {
   "cell_type": "markdown",
   "metadata": {},
   "source": [
    "29/02/2024- Operadores relacionais e estrutura condicional"
   ]
  },
  {
   "cell_type": "code",
   "execution_count": null,
   "metadata": {},
   "outputs": [
    {
     "name": "stdout",
     "output_type": "stream",
     "text": [
      "a > b ? False\n",
      "a == b? False\n",
      "a != b ? True\n",
      "a > 2 ? False\n",
      "a >= 2 ? True\n"
     ]
    }
   ],
   "source": [
    "a= 2\n",
    "b= 3\n",
    "print(f'a > b ? {a > b}')\n",
    "print(f'a == b? {a==b}')\n",
    "print(f'a != b ? {a != b}')\n",
    "print(f'a > 2 ? {a > 2}')\n",
    "print(f'a >= 2 ? {a >= 2}')"
   ]
  },
  {
   "cell_type": "code",
   "execution_count": null,
   "metadata": {},
   "outputs": [
    {
     "name": "stdout",
     "output_type": "stream",
     "text": [
      "posso entrar\n",
      "fim\n"
     ]
    }
   ],
   "source": [
    "tenho_ingresso= True\n",
    "if tenho_ingresso := True:\n",
    "  print('posso entrar')\n",
    "else: \n",
    "  print('vá comprar')\n",
    "\n",
    "print('fim')\n"
   ]
  },
  {
   "cell_type": "code",
   "execution_count": null,
   "metadata": {},
   "outputs": [
    {
     "name": "stdout",
     "output_type": "stream",
     "text": [
      "fim\n"
     ]
    }
   ],
   "source": [
    "#Passo 1: Receber o valor da idade\n",
    "idade= int(input('qual a sua idade?'))\n",
    "#Passo 2: Verificar se é maior ou igual a 18 então\n",
    "if idade >= 18:\n",
    "     #Passo 3: Se for exibir \"maior idade\"\n",
    "    print(\"maior idade\")\n",
    "print(\"fim\")\n"
   ]
  },
  {
   "cell_type": "markdown",
   "metadata": {},
   "source": [
    "01/03/2024- Operadores Lógicos e Estrutura condicional"
   ]
  },
  {
   "cell_type": "code",
   "execution_count": null,
   "metadata": {},
   "outputs": [],
   "source": [
    "a= 2\n",
    "b= 3\n",
    "c= 5\n",
    "#      False    e   False\n",
    "print ( (a > 2) and (b < 2) )  #False\n",
    "#      False    ou   False\n",
    "print ( (a > 2) or (b < 2) ) #False\n",
    "#      False    ou   True\n",
    "print ( (a > 2) or ( b < 5) ) #True\n",
    "\n",
    "idade = 18\n",
    "#      False        True\n",
    "print( idade > 18 or idade == 18 ) #True\n",
    "#      idade >= 18"
   ]
  },
  {
   "cell_type": "markdown",
   "metadata": {},
   "source": [
    "estrutura condicional composta"
   ]
  },
  {
   "cell_type": "code",
   "execution_count": null,
   "metadata": {},
   "outputs": [
    {
     "name": "stdout",
     "output_type": "stream",
     "text": [
      "peso ideal!\n"
     ]
    }
   ],
   "source": [
    "\n",
    "altura = float(input('digite sua altura (em m):'))\n",
    "peso = float(input('digite seu peso em kg:'))\n",
    "imc = peso / (altura ** 2)\n",
    "if imc < 18.5 :\n",
    "    print ('abaixo do peso ideal!')\n",
    "elif imc >= 18.6 and imc <= 24.9 :\n",
    "    print ('peso ideal!')\n",
    "elif imc >= 25 and imc <= 29.9: \n",
    "    print ('sobrepeso')\n",
    "else:\n",
    "    print('obesidade')"
   ]
  },
  {
   "cell_type": "code",
   "execution_count": null,
   "metadata": {},
   "outputs": [
    {
     "name": "stdout",
     "output_type": "stream",
     "text": [
      "triângulo Equilatero\n"
     ]
    }
   ],
   "source": [
    "lado1 = input('digite lado 1:')\n",
    "lado2 = input('digite lado 2:')\n",
    "lado3 = input('digite lado 3:')\n",
    "if ((lado1 == lado2) and (lado2 == lado3)):\n",
    "    print('triângulo Equilatero')\n",
    "elif (lado1 != lado2) and (lado2 != lado3) and (lado1 != lado3):\n",
    "    print('triângulo Escaleno')\n",
    "else:\n",
    "    print('Triângulo Isósceles')\n",
    "      "
   ]
  },
  {
   "cell_type": "code",
   "execution_count": null,
   "metadata": {},
   "outputs": [
    {
     "name": "stdout",
     "output_type": "stream",
     "text": [
      "a letra y não é uma vogal\n"
     ]
    }
   ],
   "source": [
    "letra = input('digite uma letra:')\n",
    "if letra == 'a' or letra == 'e' or letra == 'i' or letra == 'o' or letra == 'u' :\n",
    "     print(f'a letra {letra} é uma vogal')\n",
    "elif letra == '1' or letra == '2' or letra== '3' or letra== '4' or letra== '5' :\n",
    "     print(f'a letra {letra} é um número')\n",
    "else:\n",
    "     print(f'a letra {letra} não é uma vogal')"
   ]
  },
  {
   "cell_type": "markdown",
   "metadata": {},
   "source": [
    "07/03/2024 - Estrutura condicional aninhada / match case"
   ]
  },
  {
   "cell_type": "code",
   "execution_count": null,
   "metadata": {},
   "outputs": [
    {
     "name": "stdout",
     "output_type": "stream",
     "text": [
      "você não pode votar\n"
     ]
    }
   ],
   "source": [
    "idade= int(input('digite sua idade: '))\n",
    "if idade >= 18 and idade <= 70:\n",
    "    print ('você é obrigado a votar')\n",
    "else:\n",
    "    if idade < 16:\n",
    "        print ('você não pode votar')\n",
    "    else:\n",
    "        if idade >= 16 or idade > 70:\n",
    "            print ('seu voto é facultativo')            "
   ]
  },
  {
   "cell_type": "code",
   "execution_count": null,
   "metadata": {},
   "outputs": [
    {
     "name": "stdout",
     "output_type": "stream",
     "text": [
      " 6 - 9 = -3\n"
     ]
    }
   ],
   "source": [
    "n1 = int(input('digite um n°:'))\n",
    "n2 = int(input('digite outro n°:'))\n",
    "op = input('digite uma operação +-*/**')\n",
    "match op :\n",
    "    case '+': # if op == '+' :\n",
    "        print(f'{n1} {op} {n2} = {n1+n2}')\n",
    "    case '-' : # if op == '-' :\n",
    "        print(f' {n1} {op} {n2} = {n1-n2}')\n",
    "    case '-' : # if op == '*' :\n",
    "        print(f' {n1} {op} {n2} = {n1*n2}')\n",
    "    case '-' : # if op == '/' :\n",
    "        print(f' {n1} {op} {n2} = {n1/n2}')\n",
    "    case '-' : # if op == '**'\n",
    "        print(f' {n1} {op} {n2} = {n1**n2}')\n",
    "    case _ :\n",
    "        print('operador digitado inválido')"
   ]
  },
  {
   "cell_type": "markdown",
   "metadata": {},
   "source": [
    "08/03/2024- Laço de repetição"
   ]
  },
  {
   "cell_type": "code",
   "execution_count": null,
   "metadata": {},
   "outputs": [
    {
     "name": "stdout",
     "output_type": "stream",
     "text": [
      "10\n",
      "9\n",
      "8\n",
      "7\n",
      "6\n",
      "5\n",
      "4\n",
      "3\n",
      "2\n",
      "1\n",
      "0\n",
      "feliz ano novo 🎆\n"
     ]
    }
   ],
   "source": [
    "import time #importando uma biblioteca de tempo\n",
    "x = 10\n",
    "while x >= 0:\n",
    "  print(x)\n",
    "  time.sleep(0.5) #Dando uma pausa de 1s n execução\n",
    "  x = x - 1\n",
    "print('feliz ano novo 🎆')\n"
   ]
  },
  {
   "cell_type": "code",
   "execution_count": null,
   "metadata": {},
   "outputs": [
    {
     "name": "stdout",
     "output_type": "stream",
     "text": [
      "seja bem vindo, livyhan\n",
      "seja bem vindo, sair\n"
     ]
    }
   ],
   "source": [
    "texto = ''\n",
    "while texto != 'sair':\n",
    "    texto = input('digite seu nome (\"sair\" para terminar):')\n",
    "    print(f'seja bem vindo, {texto}')"
   ]
  },
  {
   "cell_type": "code",
   "execution_count": null,
   "metadata": {},
   "outputs": [
    {
     "name": "stdout",
     "output_type": "stream",
     "text": [
      "FIM\n",
      "FIM\n",
      "você está preso tentando hackeara rede\n",
      "FIM\n",
      "você hackeou a rede\n"
     ]
    }
   ],
   "source": [
    "senha_senai = '12345'\n",
    "nr_tentativa = 0\n",
    "while True:\n",
    "    senha = input('qual é a senha 🤔? \"desisto\" para sair 🔒')\n",
    "    if senha == senha_senai:\n",
    "        print('você hackeou a rede')\n",
    "        break\n",
    "    if senha == 'Desisto':\n",
    "        break\n",
    "    else:\n",
    "        nr_tentativa = nr_tentativa + 1 \n",
    "        if nr_tentativa == 3: \n",
    "            print('você está preso tentando hackeara rede')\n",
    "    print('FIM')"
   ]
  },
  {
   "cell_type": "markdown",
   "metadata": {},
   "source": [
    "21/03/2024- revisão de While"
   ]
  },
  {
   "cell_type": "code",
   "execution_count": null,
   "metadata": {},
   "outputs": [
    {
     "name": "stdout",
     "output_type": "stream",
     "text": [
      "FIM\n"
     ]
    }
   ],
   "source": [
    "resp = 's' \n",
    "while resp == 's' :\n",
    "    resp = input('Deseja continuar? [S/N]')\n",
    "\n",
    "print('FIM')"
   ]
  },
  {
   "cell_type": "code",
   "execution_count": 20,
   "metadata": {},
   "outputs": [
    {
     "name": "stdout",
     "output_type": "stream",
     "text": [
      "valor total R$ 14.00 qtde produto 1\n"
     ]
    }
   ],
   "source": [
    "soma = 0\n",
    "qtde = 0\n",
    "while True : \n",
    "    valor = float(input('digite o valor do produto [-1 para encerrar]'))\n",
    "    if valor == -1 :\n",
    "        break\n",
    "    soma = valor + valor\n",
    "    qtde = qtde + 1 \n",
    "\n",
    "print (f'valor total R$ {soma:.2f} qtde produto {qtde}')\n"
   ]
  },
  {
   "cell_type": "code",
   "execution_count": 24,
   "metadata": {},
   "outputs": [
    {
     "name": "stdout",
     "output_type": "stream",
     "text": [
      "4\n",
      "-=-=-=-=-=-=-=-=-=-=-=-=-=-=-\n",
      "  🤔jogo da adivinhação🤔    \n",
      "=============================\n",
      "você chutou 4. Parabéns você aertou 👏👏👏\n"
     ]
    }
   ],
   "source": [
    "#importando a biblioteca de numeros aleatorios \n",
    "import random\n",
    "#sorteando um numero de 1 a 100\n",
    "nrSorteado = random.randint(1, 100)\n",
    "print(nrSorteado)\n",
    "print('-=-=-=-=-=-=-=-=-=-=-=-=-=-=-')\n",
    "print('  🤔jogo da adivinhação🤔    ')\n",
    "print('=============================')\n",
    "\n",
    "acertou = False\n",
    "while acertou == False : \n",
    "    chute = int(input('🕵️‍♂️ digite um numero entre 1 e 100: '))\n",
    "    if chute == nrSorteado :\n",
    "        print(f'você chutou {chute}. Parabéns você aertou 👏👏👏')\n",
    "        acertou = True\n",
    "    elif chute > nrSorteado :\n",
    "        print (f'você chutou {chute}. Tente um numero 👇')\n",
    "    else:\n",
    "        print(f'você chutou {chute}. Tente um numero 👆')\n",
    "\n",
    "        print('FIM')\n"
   ]
  },
  {
   "cell_type": "markdown",
   "metadata": {},
   "source": [
    "22/03/2024 - For"
   ]
  },
  {
   "cell_type": "code",
   "execution_count": 5,
   "metadata": {},
   "outputs": [
    {
     "name": "stdout",
     "output_type": "stream",
     "text": [
      "1\n",
      "2\n",
      "3\n",
      "4\n",
      "5\n"
     ]
    }
   ],
   "source": [
    "# x = 1\n",
    "# while x <= 20 = \n",
    "#     print (x)\n",
    "#     x = x + 1\n",
    "# print('FIM)\n",
    "\n",
    "for x in range(5):\n",
    "    x += 1\n",
    "    print(x) \n"
   ]
  },
  {
   "cell_type": "code",
   "execution_count": 3,
   "metadata": {},
   "outputs": [
    {
     "name": "stdout",
     "output_type": "stream",
     "text": [
      "entregando os notebooks\n",
      "não pegar o notebook 1\n",
      "começar a aula\n",
      "não pegar o notebook 2\n",
      "começar a aula\n",
      "não pegar o notebook 3\n",
      "começar a aula\n",
      "não pegar o notebook 4\n",
      "começar a aula\n",
      "não pegar o notebook 5\n",
      "começar a aula\n",
      "não pegar o notebook 6\n",
      "começar a aula\n",
      "não pegar o notebook 7\n",
      "começar a aula\n",
      "não pegar o notebook 8\n",
      "começar a aula\n",
      "não pegar o notebook 9\n",
      "começar a aula\n",
      "não pegar o notebook 10\n",
      "começar a aula\n",
      "não pegar o notebook 11\n",
      "começar a aula\n",
      "não pegar o notebook 12\n",
      "começar a aula\n",
      "não pegar o notebook 13\n",
      "começar a aula\n",
      "não pegar o notebook 14\n",
      "começar a aula\n",
      "não pegar o notebook 15\n",
      "começar a aula\n",
      "não pegar o notebook 16\n",
      "começar a aula\n",
      "não pegar o notebook 17\n",
      "começar a aula\n",
      "não pegar o notebook 18\n",
      "começar a aula\n",
      "não pegar o notebook 19\n",
      "começar a aula\n",
      "não pegar o notebook 20\n",
      "começar a aula\n",
      "não pegar o notebook 21\n",
      "começar a aula\n",
      "não pegar o notebook 22\n",
      "começar a aula\n",
      "não pegar o notebook 23\n",
      "começar a aula\n",
      "não pegar o notebook 24\n",
      "começar a aula\n",
      "não pegar o notebook 25\n",
      "começar a aula\n",
      "não pegar o notebook 26\n",
      "começar a aula\n",
      "não pegar o notebook 27\n",
      "começar a aula\n",
      "não pegar o notebook 28\n",
      "começar a aula\n",
      "não pegar o notebook 29\n",
      "começar a aula\n",
      "não pegar o notebook 30\n",
      "começar a aula\n",
      "não pegar o notebook 31\n",
      "começar a aula\n",
      "não pegar o notebook 32\n",
      "começar a aula\n"
     ]
    }
   ],
   "source": [
    "print('entregando os notebooks')\n",
    "for nr in range(32):\n",
    "    nr = nr + 1\n",
    "    nome = input(f'quem é o n° {nr}?')\n",
    "    presente = input(f'O(a) {nome} veio para a escola? [S/N]')\n",
    "    if presente == 'S':\n",
    "        print(f'Pegar o notebook {nr}')\n",
    "        print(f'Pegar o mouse {nr}')\n",
    "        print(f'levar o notebook até o(a) {nome}')\n",
    "    else:\n",
    "        print(f'não pegar o notebook {nr}')\n",
    "\n",
    "        print('começar a aula')"
   ]
  },
  {
   "cell_type": "code",
   "execution_count": 1,
   "metadata": {},
   "outputs": [
    {
     "name": "stdout",
     "output_type": "stream",
     "text": [
      "5\n",
      "6\n",
      "7\n",
      "8\n",
      "9\n"
     ]
    }
   ],
   "source": [
    "for x in range (5, 10):\n",
    "    print(x)\n"
   ]
  },
  {
   "cell_type": "code",
   "execution_count": 4,
   "metadata": {},
   "outputs": [
    {
     "name": "stdout",
     "output_type": "stream",
     "text": [
      "5\n",
      "7\n",
      "9\n",
      "11\n",
      "13\n",
      "15\n",
      "17\n",
      "19\n",
      "21\n",
      "23\n",
      "25\n",
      "27\n",
      "29\n"
     ]
    }
   ],
   "source": [
    "for x in range (5, 30, 2):\n",
    "    print(x)"
   ]
  },
  {
   "cell_type": "code",
   "execution_count": 6,
   "metadata": {},
   "outputs": [
    {
     "name": "stdout",
     "output_type": "stream",
     "text": [
      "7 x 0\n",
      "7 x 7\n",
      "7 x 14\n",
      "7 x 21\n",
      "7 x 28\n",
      "7 x 35\n",
      "7 x 42\n",
      "7 x 49\n",
      "7 x 56\n",
      "7 x 63\n",
      "7 x 70\n"
     ]
    }
   ],
   "source": [
    "n = int(input('digite o nr:'))\n",
    "for x in range (11):\n",
    "    print(f'{n} x {n*x }')\n"
   ]
  },
  {
   "cell_type": "code",
   "execution_count": null,
   "metadata": {},
   "outputs": [],
   "source": [
    "for x in range (100):\n",
    "    if x == 10 :\n",
    "        break\n",
    "    print(x)"
   ]
  },
  {
   "cell_type": "markdown",
   "metadata": {},
   "source": [
    "28/03/2024 - variáveis compostas - vetores/listas"
   ]
  },
  {
   "cell_type": "code",
   "execution_count": 8,
   "metadata": {},
   "outputs": [
    {
     "name": "stdout",
     "output_type": "stream",
     "text": [
      "['maçã', 'banana', 'abacaxi', 'uva']\n",
      "maçã\n"
     ]
    }
   ],
   "source": [
    "frutas = ['maçã', 'banana', 'abacaxi', 'uva']\n",
    "print(frutas)\n",
    "print(frutas[0])\n",
    "\n",
    "#declaração de uma lista vazia\n",
    "lista_vazia = []\n",
    "\n",
    "#Declaração de uma lista de numeros\n",
    "numeros = [5, 8, 10, 40, 3]\n",
    "\n",
    "#Declaração de uma lista de strings\n",
    "nomes = ['Ana', 'João', 'Maria']\n",
    "\n",
    "#Declaração de uma lista mista\n",
    "lista_mista = [1, \"teste\", True, 3.5]"
   ]
  },
  {
   "cell_type": "code",
   "execution_count": 11,
   "metadata": {},
   "outputs": [
    {
     "name": "stdout",
     "output_type": "stream",
     "text": [
      "['maçã', 'banana', 'abacaxi', 'melancia']\n",
      "['maçã', 'banana', 'abacaxi', 'melancia', 'laranja']\n",
      "['maçã', 'banana', 'morango', 'abacaxi', 'melancia', 'laranja']\n",
      "['maçã', 'banana', 'morango', 'melancia']\n"
     ]
    }
   ],
   "source": [
    "frutas = ['maçã', 'banana', 'abacaxi', 'uva']\n",
    "frutas[3] = 'melancia'\n",
    "print(frutas)\n",
    "\n",
    "#Incluindo um novo item no final da lista\n",
    "frutas.append('laranja')\n",
    "print(frutas)\n",
    "\n",
    "#Incluindo um novo item em uma posição específica \n",
    "frutas.insert(2, 'morango')\n",
    "print(frutas)\n",
    "\n",
    "#Excluindo item da lista pelo indice\n",
    "#del frutas [3]\n",
    "#frutas.pop(3)\n",
    "frutas.remove('abacaxi')\n",
    "#excluindo ultimo item da lista\n",
    "frutas.pop()\n",
    "print(frutas)"
   ]
  },
  {
   "cell_type": "code",
   "execution_count": 16,
   "metadata": {},
   "outputs": [
    {
     "name": "stdout",
     "output_type": "stream",
     "text": [
      "laranja\n",
      "['maçã', 'banana', 'abacaxi', 'melancia']\n",
      "['banana', 'abacaxi', 'melancia', 'laranja', 'uva']\n",
      "['laranja', 'uva']\n",
      "uva\n",
      "6\n",
      "['abacaxi', 'banana', 'laranja', 'maçã', 'melancia', 'uva']\n",
      "['uva', 'melancia', 'maçã', 'laranja', 'banana', 'abacaxi']\n"
     ]
    }
   ],
   "source": [
    "frutas = ['maçã', 'banana', 'abacaxi','melancia', 'laranja', 'uva']\n",
    "print(frutas[4]) # posição específica\n",
    "\n",
    "print(frutas[0:4]) # da posição 0 pegar 4 itens\n",
    "\n",
    "print(frutas[1:]) # Da posição 1 até o ultimo\n",
    "\n",
    "print(frutas[-2:]) # Nr do itens do fim pro inicio\n",
    "\n",
    "print(frutas[-1]) # Ultimo item da lista\n",
    "\n",
    "print(len(frutas)) # Total de itens da lista\n",
    "\n",
    "frutas.sort() # Ordenando lista em ordem crescente\n",
    "print(frutas)\n",
    "\n",
    "frutas.reverse() # Ordenando lista em ordem decrescente\n",
    "print(frutas)"
   ]
  },
  {
   "cell_type": "markdown",
   "metadata": {},
   "source": [
    "aula 04/04/2024 - interação em listas"
   ]
  },
  {
   "cell_type": "code",
   "execution_count": 6,
   "metadata": {},
   "outputs": [
    {
     "name": "stdout",
     "output_type": "stream",
     "text": [
      "h é uma consoante\n"
     ]
    }
   ],
   "source": [
    "#criando uma lista de vogais\n",
    "vogais = ['a', 'e', 'i','o','u']\n",
    "#criando uma lista de consoantes\n",
    "consoantes = ['b', 'c','d','f','g','h','j','k','l','m','n','p','q','r','s','t','v','w','x','y','z']\n",
    "#recebendo um caractere digitado pelo usuário\n",
    "letra = input('informe um caractere')\n",
    "#o método .lower() deixa todas as letras digitadas como minuscula\n",
    "#o método .upper() deixa todas as letras digitadas como maiuscula\n",
    "#lemos da seguinte forma:\n",
    "#SE a letra em MINUSCULA ESTIVER na lista de vogais ENTÃO\n",
    "\n",
    "if letra.lower() in vogais :\n",
    "    print(f'{letra} é uma vogal')\n",
    "elif letra.lower() in consoantes:\n",
    "    print(f'{letra} é uma consoante')\n",
    "else:\n",
    "    print(f'{letra} não é uma letra')\n",
    "    "
   ]
  },
  {
   "cell_type": "code",
   "execution_count": 11,
   "metadata": {},
   "outputs": [
    {
     "name": "stdout",
     "output_type": "stream",
     "text": [
      "Pelé\n",
      "Maradona\n",
      "Messi\n",
      "Cristiano Ronaldo\n"
     ]
    }
   ],
   "source": [
    "listaNomes = ['Pelé', 'Maradona', 'Messi', 'Cristiano Ronaldo']\n",
    "for nome in listaNomes:\n",
    "   print(nome)"
   ]
  },
  {
   "cell_type": "code",
   "execution_count": 9,
   "metadata": {},
   "outputs": [
    {
     "name": "stdout",
     "output_type": "stream",
     "text": [
      "26\n"
     ]
    }
   ],
   "source": [
    "listaNrs = [4,6,2,5,9]\n",
    "soma = 0\n",
    "for nr in listaNrs:\n",
    "    soma = soma + nr\n",
    "print(soma)"
   ]
  },
  {
   "cell_type": "code",
   "execution_count": 12,
   "metadata": {},
   "outputs": [
    {
     "name": "stdout",
     "output_type": "stream",
     "text": [
      " fruta maçã está na posição 0\n",
      " fruta banana está na posição 1\n",
      " fruta abacaxi está na posição 2\n",
      " fruta uva está na posição 3\n"
     ]
    }
   ],
   "source": [
    "listaFrutas = ['maçã', 'banana', 'abacaxi', 'uva']\n",
    "for pos, fruta in enumerate(listaFrutas):\n",
    "    print(f' fruta {fruta} está na posição {pos}')"
   ]
  },
  {
   "cell_type": "code",
   "execution_count": 13,
   "metadata": {},
   "outputs": [
    {
     "name": "stdout",
     "output_type": "stream",
     "text": [
      "celular\n",
      " notebook\n",
      " TV\n",
      " tablet\n",
      " headset\n"
     ]
    }
   ],
   "source": [
    "produtos = 'celular, notebook, TV, tablet, headset'\n",
    "listaProdutos = produtos.split(',')\n",
    "for produto in listaProdutos:\n",
    "    print (produto)"
   ]
  },
  {
   "cell_type": "code",
   "execution_count": 14,
   "metadata": {},
   "outputs": [
    {
     "name": "stdout",
     "output_type": "stream",
     "text": [
      "S\n",
      "E\n",
      "N\n",
      "A\n",
      "I\n"
     ]
    }
   ],
   "source": [
    "palavra = 'SENAI'\n",
    "for letra in palavra:\n",
    "    print(letra)\n",
    "#print (palavra[0]) primeira letra\n",
    "#print (palavra[-1]) ultima letra"
   ]
  },
  {
   "cell_type": "markdown",
   "metadata": {},
   "source": [
    "05/04/2024 - "
   ]
  },
  {
   "cell_type": "code",
   "execution_count": 4,
   "metadata": {},
   "outputs": [
    {
     "name": "stdout",
     "output_type": "stream",
     "text": [
      "1° pizza\n",
      "2° batata\n",
      "3° lasanha\n",
      "pizza\n"
     ]
    }
   ],
   "source": [
    "#criando uma lista vazia\n",
    "listaComidas = []\n",
    "#laço de repetição sem um nr de execução definida\n",
    "while True :\n",
    "    #recebendo informação do usuário e armazenando em uma variável\n",
    "    comida = input('digite uma comida que você mais gosta:')\n",
    "    #inserindo o valor da variável no final da nossa lista\n",
    "    listaComidas.append(comida)\n",
    "    #obtendo a resposta do usuário se deseja continuar\n",
    "    resp = input('deseja continuar? [S/N]')\n",
    "    #verificando condição da resposta dele, se for N ou n sair do laço\n",
    "    if resp in 'Nn':\n",
    "        #parando o laço de repetição while \n",
    "        break \n",
    "\n",
    "#fora do while - após finalizar sua executação e encontrar o break\n",
    "#laço de repetição para exibir os itens e suas posições \n",
    "for pos, comida in enumerate(listaComidas) :\n",
    "    #exibindo as variáveis de cada item da lista\n",
    "    print(f'{pos+1}° {comida}')\n",
    "\n",
    "print(listaComidas[0])"
   ]
  },
  {
   "cell_type": "markdown",
   "metadata": {},
   "source": [
    "11/04/2024 - Funções "
   ]
  },
  {
   "cell_type": "code",
   "execution_count": 1,
   "metadata": {},
   "outputs": [
    {
     "name": "stdout",
     "output_type": "stream",
     "text": [
      "--------------------\n",
      "SESI / SENAI\n",
      "--------------------\n"
     ]
    }
   ],
   "source": [
    "print ( '-' * 20)\n",
    "print ('SESI / SENAI')\n",
    "print ('-' * 20)"
   ]
  },
  {
   "cell_type": "code",
   "execution_count": 3,
   "metadata": {},
   "outputs": [
    {
     "name": "stdout",
     "output_type": "stream",
     "text": [
      "$$$$$$$$$$$$$$$$$$$$$$$$$$$$$$$$$$$$$$$$\n",
      "SESI/SENAI\n",
      "$$$$$$$$$$$$$$$$$$$$$$$$$$$$$$$$$$$$$$$$\n",
      "$$$$$$$$$$$$$$$$$$$$$$$$$$$$$$$$$$$$$$$$\n",
      "$$$$$$$$$$$$$$$$$$$$$$$$$$$$$$$$$$$$$$$$\n",
      "$$$$$$$$$$$$$$$$$$$$$$$$$$$$$$$$$$$$$$$$\n",
      "$$$$$$$$$$$$$$$$$$$$$$$$$$$$$$$$$$$$$$$$\n"
     ]
    }
   ],
   "source": [
    "def Linha():\n",
    "    print('$' * 40)\n",
    "\n",
    "Linha()\n",
    "print('SESI/SENAI')\n",
    "Linha()\n",
    "Linha()\n",
    "Linha()\n",
    "Linha()\n",
    "Linha()\n"
   ]
  },
  {
   "cell_type": "code",
   "execution_count": 33,
   "metadata": {},
   "outputs": [
    {
     "name": "stdout",
     "output_type": "stream",
     "text": [
      "--------------------\n",
      "SESI/SENAI\n",
      "--------------------\n"
     ]
    }
   ],
   "source": [
    "def Cabecalho():\n",
    "    print('-'* 20)\n",
    "    print('SESI/SENAI')\n",
    "    print('-'*20)\n",
    "\n",
    "Cabecalho()"
   ]
  },
  {
   "cell_type": "code",
   "execution_count": 4,
   "metadata": {},
   "outputs": [
    {
     "name": "stdout",
     "output_type": "stream",
     "text": [
      "--------------------\n",
      "SESI/SENAI\n",
      "--------------------\n",
      "--------------------\n",
      "SESI/SENAI\n",
      "--------------------\n",
      "--------------------\n",
      "SESI/SENAI\n",
      "--------------------\n"
     ]
    }
   ],
   "source": [
    "def Linha ():\n",
    "    print('-' * 20)\n",
    "\n",
    "def Cabecalho():\n",
    "    Linha()\n",
    "    print( 'SESI/SENAI')\n",
    "    Linha()\n",
    "\n",
    "Cabecalho()\n",
    "Cabecalho()\n",
    "Cabecalho()"
   ]
  },
  {
   "cell_type": "code",
   "execution_count": 9,
   "metadata": {},
   "outputs": [
    {
     "name": "stdout",
     "output_type": "stream",
     "text": [
      "livy tenha um bom dia\n",
      "livy tenha um bom dia\n",
      "livy tenha um bom dia\n"
     ]
    }
   ],
   "source": [
    "def saudacao():\n",
    "    nome = input('digite seu nome:')\n",
    "    print(f'{nome} tenha um bom dia')    \n",
    "\n",
    "for n in range(3):\n",
    "    saudacao()\n",
    "     \n"
   ]
  },
  {
   "cell_type": "code",
   "execution_count": 10,
   "metadata": {},
   "outputs": [
    {
     "data": {
      "text/plain": [
       "'digite um nome'"
      ]
     },
     "execution_count": 10,
     "metadata": {},
     "output_type": "execute_result"
    }
   ],
   "source": [
    "input('digite um nome')"
   ]
  },
  {
   "cell_type": "code",
   "execution_count": 11,
   "metadata": {},
   "outputs": [
    {
     "name": "stdout",
     "output_type": "stream",
     "text": [
      "OI BOA TARDE\n"
     ]
    }
   ],
   "source": [
    "print('OI', 'BOA TARDE')"
   ]
  },
  {
   "cell_type": "code",
   "execution_count": 12,
   "metadata": {},
   "outputs": [
    {
     "name": "stdout",
     "output_type": "stream",
     "text": [
      "A soma de 10 + 5 é 15\n"
     ]
    }
   ],
   "source": [
    "def soma(n1, n2):\n",
    "    res = n1 + n2\n",
    "    print(f'A soma de {n1} + {n2} é {res}')\n",
    "\n",
    "soma(10,5)"
   ]
  },
  {
   "cell_type": "code",
   "execution_count": 25,
   "metadata": {},
   "outputs": [
    {
     "name": "stdout",
     "output_type": "stream",
     "text": [
      "o nr 9 é impar\n",
      "o nr 10 é par\n"
     ]
    }
   ],
   "source": [
    "def ParImpar(numero):\n",
    "    if numero % 2 == 0 :\n",
    "        print(f'o nr {numero} é par')\n",
    "    else:\n",
    "        print(f'o nr {numero} é impar')\n",
    "\n",
    "ParImpar(9)\n",
    "ParImpar(10)"
   ]
  },
  {
   "cell_type": "code",
   "execution_count": 29,
   "metadata": {},
   "outputs": [
    {
     "name": "stdout",
     "output_type": "stream",
     "text": [
      "(10, 8)\n",
      "6.0\n"
     ]
    }
   ],
   "source": [
    "def Media(n1, n2):\n",
    "    res = (n1 + n2) / 2\n",
    "    return(res)\n",
    "\n",
    "# A variavel resultdo_media recebe o retorno da função Media\n",
    "resultado_media = (10,8)\n",
    "print(resultado_media)\n",
    "print(Media(10, 2))"
   ]
  },
  {
   "cell_type": "code",
   "execution_count": 32,
   "metadata": {},
   "outputs": [
    {
     "name": "stdout",
     "output_type": "stream",
     "text": [
      "24/12/1987\n",
      "27/2/1989\n"
     ]
    }
   ],
   "source": [
    "def FormatarData(dia, mês,ano):\n",
    "    data = f'{dia}/{mês}/{ano}'\n",
    "    return(data)\n",
    "\n",
    "print(FormatarData(24,12,1987))\n",
    "print(FormatarData(27,2,1989))\n"
   ]
  },
  {
   "cell_type": "markdown",
   "metadata": {},
   "source": [
    "14/04/2024 - Escopo de variáveis (variável local e global)"
   ]
  },
  {
   "cell_type": "code",
   "execution_count": 1,
   "metadata": {},
   "outputs": [
    {
     "name": "stdout",
     "output_type": "stream",
     "text": [
      "Valor ANTES da função SENAI\n",
      "Valor dentro da função SESI\n",
      "Valor DEPOIS da função SENAI\n"
     ]
    }
   ],
   "source": [
    "def NomeEscola():\n",
    "    escola = 'SESI'\n",
    "    print(f'Valor dentro da função {escola}')\n",
    "\n",
    "escola = 'SENAI'\n",
    "print(f'Valor ANTES da função {escola}')\n",
    "NomeEscola()\n",
    "print(f'Valor DEPOIS da função {escola}')"
   ]
  },
  {
   "cell_type": "code",
   "execution_count": 2,
   "metadata": {},
   "outputs": [
    {
     "name": "stdout",
     "output_type": "stream",
     "text": [
      "Valor ANTES da função SENAI\n",
      "SENAI\n",
      "Valor DEPOIS da função SENAI\n"
     ]
    }
   ],
   "source": [
    "def NomeEscola():\n",
    "    # caso eu queira atualizar o conteudo da variavel escola\n",
    "    # preciso escrever que ela é a global\n",
    "    global escola \n",
    "    print(escola)\n",
    "\n",
    "escola = 'SENAI'\n",
    "print(f'Valor ANTES da função {escola}')\n",
    "NomeEscola()\n",
    "print(f'Valor DEPOIS da função {escola}')"
   ]
  },
  {
   "cell_type": "code",
   "execution_count": 3,
   "metadata": {},
   "outputs": [
    {
     "name": "stdout",
     "output_type": "stream",
     "text": [
      "fora da função 10\n",
      "dentro da função 11\n",
      "fora da função 11\n"
     ]
    }
   ],
   "source": [
    "x = 10 # x é uma variável global\n",
    "# podemos acessar x fora de uma função também\n",
    "print('fora da função', x)\n",
    "\n",
    "def minhaFuncao():\n",
    "    global x #dizendo que usaremos a variavel x global\n",
    "    x = x + 1\n",
    "    print('dentro da função', x)\n",
    "\n",
    "minhaFuncao()\n",
    "print('fora da função', x)"
   ]
  }
 ],
 "metadata": {
  "kernelspec": {
   "display_name": "Python 3",
   "language": "python",
   "name": "python3"
  },
  "language_info": {
   "codemirror_mode": {
    "name": "ipython",
    "version": 3
   },
   "file_extension": ".py",
   "mimetype": "text/x-python",
   "name": "python",
   "nbconvert_exporter": "python",
   "pygments_lexer": "ipython3",
   "version": "3.12.3"
  }
 },
 "nbformat": 4,
 "nbformat_minor": 2
}
