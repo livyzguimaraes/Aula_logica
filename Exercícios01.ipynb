{
 "cells": [
  {
   "cell_type": "markdown",
   "metadata": {},
   "source": [
    "exercício 00"
   ]
  },
  {
   "cell_type": "code",
   "execution_count": 1,
   "metadata": {},
   "outputs": [
    {
     "name": "stdout",
     "output_type": "stream",
     "text": [
      "<class 'str'>\n"
     ]
    }
   ],
   "source": [
    "print(type('nome'))"
   ]
  },
  {
   "cell_type": "markdown",
   "metadata": {},
   "source": [
    "exercício 01"
   ]
  },
  {
   "cell_type": "code",
   "execution_count": 5,
   "metadata": {},
   "outputs": [
    {
     "name": "stdout",
     "output_type": "stream",
     "text": [
      "resultado: 655\n"
     ]
    }
   ],
   "source": [
    "numero1= input('digite o primeiro número')\n",
    "numero2= input('digite o segundo número')\n",
    "soma= numero1+ numero2\n",
    "print(f'resultado: {soma}')\n",
    "#print(f'o resultado é: {numero1 + numero2})"
   ]
  },
  {
   "cell_type": "markdown",
   "metadata": {},
   "source": [
    "exercício 02"
   ]
  },
  {
   "cell_type": "code",
   "execution_count": 8,
   "metadata": {},
   "outputs": [
    {
     "name": "stdout",
     "output_type": "stream",
     "text": [
      "o antecessor de 6, o antecessor é 8\n"
     ]
    }
   ],
   "source": [
    "numero= int(input('qual é o seu numero?'))\n",
    "antecessor= numero- 1 \n",
    "sucessor= numero+ 1\n",
    "print(f'o antecessor de {antecessor}, o antecessor é {sucessor}')"
   ]
  },
  {
   "cell_type": "markdown",
   "metadata": {},
   "source": [
    "exercício 03"
   ]
  },
  {
   "cell_type": "code",
   "execution_count": 1,
   "metadata": {},
   "outputs": [
    {
     "name": "stdout",
     "output_type": "stream",
     "text": [
      "seu numero é 27.0, o dobro é 54.0, o triplo é 81.0, a raiz é 5.196152422706632\n"
     ]
    }
   ],
   "source": [
    "numero= float(input('digite um numero'))\n",
    "dobro = numero * 2\n",
    "triplo = numero * 3\n",
    "raiz = numero ** 0.5\n",
    "print(f'seu numero é {numero}, o dobro é {dobro}, o triplo é {triplo}, a raiz é {raiz}')"
   ]
  },
  {
   "cell_type": "markdown",
   "metadata": {},
   "source": [
    "exercício 04"
   ]
  },
  {
   "cell_type": "code",
   "execution_count": 9,
   "metadata": {},
   "outputs": [
    {
     "name": "stdout",
     "output_type": "stream",
     "text": [
      "8.0\n"
     ]
    }
   ],
   "source": [
    "nota1= float(input(\"qual a nota?\"))\n",
    "nota2= float(input(\"qual a nota?\"))\n",
    "media= (nota1+nota2)/2\n",
    "print(media)"
   ]
  },
  {
   "cell_type": "markdown",
   "metadata": {},
   "source": [
    "exercício 05"
   ]
  },
  {
   "cell_type": "code",
   "execution_count": 10,
   "metadata": {},
   "outputs": [
    {
     "name": "stdout",
     "output_type": "stream",
     "text": [
      "2.0, 200.0, e a medida em mm é 2000.0\n"
     ]
    }
   ],
   "source": [
    "metro= float(input('quantos metros?'))\n",
    "mm = metro * 1000\n",
    "cm = metro * 100\n",
    "print(f'{metro}, {cm}, e a medida em mm é {mm}')\n"
   ]
  },
  {
   "cell_type": "markdown",
   "metadata": {},
   "source": [
    "exercício 06"
   ]
  },
  {
   "cell_type": "code",
   "execution_count": 12,
   "metadata": {},
   "outputs": [
    {
     "name": "stdout",
     "output_type": "stream",
     "text": [
      "tabuada do 8.0\n",
      "8.0 x 1 = 8.0\n",
      "8.0 x 2 = 16.0\n",
      "8.0 x 3 = 24.0\n",
      "8.0 x 4 = 32.0\n",
      "8.0 x 5 = 40.0\n",
      "8.0 x 6 = 48.0\n",
      "8.0 x 7 = 56.0\n",
      "8.0 x 8 = 64.0\n",
      "8.0 x 9 = 72.0\n",
      "8.0 x 10 = 80.0\n"
     ]
    }
   ],
   "source": [
    "nr = float(input('digite um nr real para calcular a tabuada:'))\n",
    "print(f'tabuada do {nr}')\n",
    "print(f'{nr} x 1 = {nr*1}')\n",
    "print(f'{nr} x 2 = {nr*2}')\n",
    "print(f'{nr} x 3 = {nr*3}')\n",
    "print(f'{nr} x 4 = {nr*4}')\n",
    "print(f'{nr} x 5 = {nr*5}')\n",
    "print(f'{nr} x 6 = {nr*6}')\n",
    "print(f'{nr} x 7 = {nr*7}')\n",
    "print(f'{nr} x 8 = {nr*8}')\n",
    "print(f'{nr} x 9 = {nr*9}')\n",
    "print(f'{nr} x 10 = {nr*10}')"
   ]
  },
  {
   "cell_type": "markdown",
   "metadata": {},
   "source": [
    "exercício 7"
   ]
  },
  {
   "cell_type": "code",
   "execution_count": 16,
   "metadata": {},
   "outputs": [
    {
     "name": "stdout",
     "output_type": "stream",
     "text": [
      "você tem $2.40\n"
     ]
    }
   ],
   "source": [
    "real= float(input('digitando o valor em '))\n",
    "dolar= real / 4.99\n",
    "print(f'você tem ${dolar:.2f}')"
   ]
  },
  {
   "cell_type": "markdown",
   "metadata": {},
   "source": [
    "exercício 8"
   ]
  },
  {
   "cell_type": "code",
   "execution_count": 14,
   "metadata": {},
   "outputs": [
    {
     "name": "stdout",
     "output_type": "stream",
     "text": [
      "para pintar uma area de 175.0m², metros qudrados, precisa de 87.51\n"
     ]
    }
   ],
   "source": [
    "altura= float(input('digite a altura'))\n",
    "largura= float(input('digite a largura'))\n",
    "area= altura * largura \n",
    "litros= area / 2\n",
    "print(f'para pintar uma area de {area}m², metros qudrados, precisa de {litros}1')"
   ]
  },
  {
   "cell_type": "markdown",
   "metadata": {},
   "source": [
    "exercício 9"
   ]
  },
  {
   "cell_type": "code",
   "execution_count": 15,
   "metadata": {},
   "outputs": [
    {
     "name": "stdout",
     "output_type": "stream",
     "text": [
      "53.2\n"
     ]
    }
   ],
   "source": [
    "valor= float(input('digite o valor'))\n",
    "desconto= valor * 5 / 100 \n",
    "valor = valor - desconto\n",
    "print(valor)"
   ]
  },
  {
   "cell_type": "markdown",
   "metadata": {},
   "source": [
    "exercício 10, algoritimo que leia o salário do funcionário e mostre seu novo salário com 15% de aumento."
   ]
  },
  {
   "cell_type": "code",
   "execution_count": 17,
   "metadata": {},
   "outputs": [
    {
     "name": "stdout",
     "output_type": "stream",
     "text": [
      "17.25\n"
     ]
    }
   ],
   "source": [
    "salario= float(input('digite o salario'))\n",
    "aumento= (salario / 100) * 15\n",
    "salario= salario + aumento\n",
    "print(salario)"
   ]
  },
  {
   "cell_type": "markdown",
   "metadata": {},
   "source": [
    "exercício 11, algoritimo que receba um valor em graus Celsius e converta para farenheit"
   ]
  },
  {
   "cell_type": "code",
   "execution_count": 18,
   "metadata": {},
   "outputs": [
    {
     "name": "stdout",
     "output_type": "stream",
     "text": [
      "35.0°c é igual a 95.0°F\n"
     ]
    }
   ],
   "source": [
    "graus= float(input('digite a temperatura em °c'))\n",
    "valor= graus * 1.8 + 32\n",
    "print(f'{graus}°c é igual a {valor}°F')"
   ]
  },
  {
   "cell_type": "markdown",
   "metadata": {},
   "source": [
    "12- faça um algoritmo que permite a quantidade de km percorridos por um carro alugado e a quantidade de dias pelos quais ele foi alugado. Calcule o preço a pagar, sabendo que o carro custa R$60 por dia e R$0.15 por km rodado."
   ]
  },
  {
   "cell_type": "code",
   "execution_count": 19,
   "metadata": {},
   "outputs": [
    {
     "name": "stdout",
     "output_type": "stream",
     "text": [
      " o valor total será de R$ 2709.90\n"
     ]
    }
   ],
   "source": [
    "km_percorrido= float(input('digite o km percorrido:'))\n",
    "dias= int(input('digite a quantidade de dias:'))\n",
    "pagar= (60 * dias) + (0.15 * km_percorrido)\n",
    "print(f' o valor total será de R$ {pagar:.2f}')\n"
   ]
  }
 ],
 "metadata": {
  "kernelspec": {
   "display_name": "Python 3",
   "language": "python",
   "name": "python3"
  },
  "language_info": {
   "codemirror_mode": {
    "name": "ipython",
    "version": 3
   },
   "file_extension": ".py",
   "mimetype": "text/x-python",
   "name": "python",
   "nbconvert_exporter": "python",
   "pygments_lexer": "ipython3",
   "version": "3.12.2"
  }
 },
 "nbformat": 4,
 "nbformat_minor": 2
}
