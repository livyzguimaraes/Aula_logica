{
 "cells": [
  {
   "cell_type": "markdown",
   "metadata": {},
   "source": [
    "1 - Crie uma lista com os números de 1 a 10 e imprima cada número."
   ]
  },
  {
   "cell_type": "code",
   "execution_count": 34,
   "metadata": {},
   "outputs": [
    {
     "name": "stdout",
     "output_type": "stream",
     "text": [
      "1, 2, 3, 4, 5, 6, 7, 8, 9, 10\n"
     ]
    }
   ],
   "source": [
    "listaNrs = ['1, 2, 3, 4, 5, 6, 7, 8, 9, 10']\n",
    "for nr in listaNrs :\n",
    "    print(nr) \n"
   ]
  },
  {
   "cell_type": "markdown",
   "metadata": {},
   "source": [
    "2 - Crie uma lista com os nomes de três amigos e imprima cada nome."
   ]
  },
  {
   "cell_type": "code",
   "execution_count": 10,
   "metadata": {},
   "outputs": [
    {
     "name": "stdout",
     "output_type": "stream",
     "text": [
      "mariana\n",
      "gabriela\n",
      "camila\n"
     ]
    }
   ],
   "source": [
    "listaNomes = ['mariana', 'gabriela', 'camila']\n",
    "for nome in listaNomes:\n",
    "    print(nome)"
   ]
  },
  {
   "cell_type": "markdown",
   "metadata": {},
   "source": [
    "3 - Crie uma lista com os meses do ano e imprima apenas os meses que começam com \"J\"."
   ]
  },
  {
   "cell_type": "code",
   "execution_count": 16,
   "metadata": {},
   "outputs": [
    {
     "name": "stdout",
     "output_type": "stream",
     "text": [
      "janeiro\n",
      "junho\n",
      "julho\n"
     ]
    }
   ],
   "source": [
    "listaMeses = ['janeiro', 'fevereiro', 'março', 'abril', 'maio', 'junho','julho', 'agosto', 'setembro', 'outubro', 'novembro','dezembro']\n",
    "for mes in listaMeses:\n",
    "    if mes[0] == 'j':\n",
    "        print(mes)"
   ]
  },
  {
   "cell_type": "markdown",
   "metadata": {},
   "source": [
    "4 - Crie uma lista com as palavras \"gato\", \"cachorro\", \"pássaro\" e \"peixe\", e imprima cada palavra\n",
    "em maiúsculas."
   ]
  },
  {
   "cell_type": "code",
   "execution_count": 35,
   "metadata": {},
   "outputs": [
    {
     "name": "stdout",
     "output_type": "stream",
     "text": [
      "GATO\n",
      "CACHORRO\n",
      "PASSARO\n",
      "PEIXE\n"
     ]
    }
   ],
   "source": [
    "listaAnimais = ['gato','cachorro','passaro','peixe']\n",
    "for animal in listaAnimais:\n",
    "    print(animal.upper())\n"
   ]
  },
  {
   "cell_type": "markdown",
   "metadata": {},
   "source": [
    "5 - Crie uma lista com 5 números aleatórios e exiba o nr e seu dobro desse."
   ]
  },
  {
   "cell_type": "code",
   "execution_count": 36,
   "metadata": {},
   "outputs": [
    {
     "name": "stdout",
     "output_type": "stream",
     "text": [
      "2 4\n",
      "3 6\n",
      "9 18\n",
      "6 12\n",
      "4 8\n"
     ]
    }
   ],
   "source": [
    "listaNrs = [2,3,9,6,4]\n",
    "for nr in listaNrs:\n",
    "    dobro = nr * 2\n",
    "    print(nr, dobro)"
   ]
  },
  {
   "cell_type": "markdown",
   "metadata": {},
   "source": [
    "6 - Crie uma lista com valores numéricos e encontre o maior e o menor elemento dessa lista."
   ]
  },
  {
   "cell_type": "code",
   "execution_count": 37,
   "metadata": {},
   "outputs": [
    {
     "name": "stdout",
     "output_type": "stream",
     "text": [
      "10 54\n",
      "54\n",
      "2\n"
     ]
    }
   ],
   "source": [
    "listaNrs = [10, 2, 43, 54, 25, 100, 304, 1, 64, 55 ]\n",
    "menorNr = 100000000\n",
    "maiorNr = 0\n",
    "for nrAtual in listaNrs: \n",
    "    if nrAtual > maiorNr:\n",
    "        maiorNr = nrAtual \n",
    "        if nrAtual < menorNr:\n",
    "            menorNr = nrAtual\n",
    "\n",
    "print(menorNr, maiorNr)\n",
    "\n",
    "#utilizando as funções prontas do python\n",
    "print(max(listaNrs))\n",
    "print(min(listaNrs))"
   ]
  },
  {
   "cell_type": "markdown",
   "metadata": {},
   "source": [
    "7 - Receba uma palavra do usuário e calcule quantas vogais há nesta palavra."
   ]
  },
  {
   "cell_type": "code",
   "execution_count": 40,
   "metadata": {},
   "outputs": [
    {
     "name": "stdout",
     "output_type": "stream",
     "text": [
      "a palavra otorrinolaringologista tem 10 vogais\n"
     ]
    }
   ],
   "source": [
    "palavra = input('digite uma palavra')\n",
    "vogais = ['a', 'e', 'i', 'o','u']\n",
    "qtdeVogais = 0\n",
    "for letra in palavra:\n",
    "    if letra.lower() in 'aeiou' :\n",
    "        qtdeVogais = qtdeVogais + 1 \n",
    "\n",
    "print(f'a palavra {palavra} tem {qtdeVogais} vogais')"
   ]
  },
  {
   "cell_type": "markdown",
   "metadata": {},
   "source": [
    "8 - Nessa string ‘Gol;Corsa;Palio;Monza;Fusca;’, faça a separação desses itens para uma lista e\n",
    "exiba o item e a posição que ele está"
   ]
  },
  {
   "cell_type": "code",
   "execution_count": null,
   "metadata": {},
   "outputs": [],
   "source": []
  }
 ],
 "metadata": {
  "kernelspec": {
   "display_name": "Python 3",
   "language": "python",
   "name": "python3"
  },
  "language_info": {
   "codemirror_mode": {
    "name": "ipython",
    "version": 3
   },
   "file_extension": ".py",
   "mimetype": "text/x-python",
   "name": "python",
   "nbconvert_exporter": "python",
   "pygments_lexer": "ipython3",
   "version": "3.12.3"
  }
 },
 "nbformat": 4,
 "nbformat_minor": 2
}
