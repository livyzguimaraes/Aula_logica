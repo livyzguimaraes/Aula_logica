{
 "cells": [
  {
   "cell_type": "markdown",
   "metadata": {},
   "source": [
    "1. Faça um Programa que mostre a mensagem \"Seja Bem-Vindo ao SESI 😎\" na tela."
   ]
  },
  {
   "cell_type": "code",
   "execution_count": 1,
   "metadata": {},
   "outputs": [
    {
     "name": "stdout",
     "output_type": "stream",
     "text": [
      "Seja Bem-Vindo ao SESI 😎\n"
     ]
    }
   ],
   "source": [
    "print(\"Seja Bem-Vindo ao SESI 😎\")"
   ]
  },
  {
   "cell_type": "markdown",
   "metadata": {},
   "source": [
    "2. Faça um Programa que peça um número e então mostre a mensagem “O número\n",
    "informado foi [número]”."
   ]
  },
  {
   "cell_type": "code",
   "execution_count": 5,
   "metadata": {},
   "outputs": [
    {
     "name": "stdout",
     "output_type": "stream",
     "text": [
      "o número informado foi 6\n"
     ]
    }
   ],
   "source": [
    "numero = input('digite um número:')\n",
    "print(f'o número informado foi {numero}')"
   ]
  },
  {
   "cell_type": "markdown",
   "metadata": {},
   "source": [
    "3. Faça um programa que receba 2 números inteiros e exiba a divisão entre eles"
   ]
  },
  {
   "cell_type": "code",
   "execution_count": 6,
   "metadata": {},
   "outputs": [
    {
     "name": "stdout",
     "output_type": "stream",
     "text": [
      "4.0\n"
     ]
    }
   ],
   "source": [
    "n1 = float(input('digite um numero:'))\n",
    "n2 = float(input('digite o segundo numero:'))\n",
    "divisao = n1/n2\n",
    "print(divisao)\n"
   ]
  },
  {
   "cell_type": "markdown",
   "metadata": {},
   "source": [
    "4. Faça um Programa que pergunte quanto você ganha por hora e o número de horas\n",
    "trabalhadas no mês. Calcule e mostre o total do seu salário no referido mês."
   ]
  },
  {
   "cell_type": "code",
   "execution_count": 7,
   "metadata": {},
   "outputs": [
    {
     "name": "stdout",
     "output_type": "stream",
     "text": [
      "14000.0\n"
     ]
    }
   ],
   "source": [
    "salario = float(input('digite quanto você ganha por hora:'))\n",
    "hrsTrabalhadas = float(input('digite quantas horas por mês:'))\n",
    "totalSalario = salario*hrsTrabalhadas\n",
    "print(totalSalario)"
   ]
  },
  {
   "cell_type": "markdown",
   "metadata": {},
   "source": [
    "5. Faça um Programa que verifique se uma letra digitada é \"F\" ou \"M\". Conforme a letra\n",
    "escrever: F - Feminino, M - Masculino, Sexo Inválido."
   ]
  },
  {
   "cell_type": "code",
   "execution_count": 10,
   "metadata": {},
   "outputs": [
    {
     "name": "stdout",
     "output_type": "stream",
     "text": [
      "feminino\n"
     ]
    }
   ],
   "source": [
    "sexo = input('qual é o seu sexo?:')\n",
    "if sexo == 'F':\n",
    "    print('feminino')\n",
    "elif sexo == 'M':\n",
    "    print('masculino')\n",
    "else:\n",
    "    print('sexo inválido')"
   ]
  },
  {
   "cell_type": "markdown",
   "metadata": {},
   "source": [
    "6. Tendo como dado de entrada a altura (h) de uma pessoa e o sexo, construa um algoritmo\n",
    "que calcule seu peso ideal, utilizando as seguintes fórmulas:\n",
    "Para homens: (72.7 * altura) – 58 Para mulheres: (62.1 * altura) - 44.7"
   ]
  },
  {
   "cell_type": "code",
   "execution_count": 13,
   "metadata": {},
   "outputs": [
    {
     "name": "stdout",
     "output_type": "stream",
     "text": [
      "masculino\n",
      "71.406\n"
     ]
    }
   ],
   "source": [
    "sexo = input('qual é o seu sexo?:')\n",
    "if sexo == 'F':\n",
    "    print('feminino')\n",
    "    h = float(input('digite sua altura:'))\n",
    "    pesoideal = 62.1 * h -44.7\n",
    "    print(pesoideal)\n",
    "elif sexo == 'M':\n",
    "    print('masculino')\n",
    "    h2 = float(input('digite a sua altura:'))\n",
    "    pesoideal2 = 72.7 * h2 -58\n",
    "    print(pesoideal2)\n"
   ]
  },
  {
   "cell_type": "markdown",
   "metadata": {},
   "source": [
    "7. Faça um Programa que pergunte quanto você ganha por hora e o número de horas\n",
    "trabalhadas no mês.\n",
    "Calcule e mostre o total do seu salário no referido mês, sabendo-se que são descontados\n",
    "11% para o Imposto de Renda, 8% para o INSS e 5% para o sindicato, faça um programa\n",
    "que nos dê: salário bruto. quanto pagou ao INSS. quanto pagou ao sindicato. o salário\n",
    "líquido. calcule os descontos e o salário líquido, conforme a tabela abaixo:\n",
    "+ Salário Bruto : R$\n",
    "- IR (11%) : R$\n",
    "- INSS (8%) : R$\n",
    "- Sindicato ( 5%) : R$\n",
    "= Salário Liquido : R$\n",
    "Obs.: Salário Bruto - Descontos = Salário Líquido."
   ]
  },
  {
   "cell_type": "code",
   "execution_count": 16,
   "metadata": {},
   "outputs": [
    {
     "name": "stdout",
     "output_type": "stream",
     "text": [
      "o salario é 8000.0 teve que dar para o IR 880.0, também para o INSS 640.0, e também ao sindicato 400.0 \n"
     ]
    }
   ],
   "source": [
    "salario = float(input('digite quanto você ganha por hora:'))\n",
    "hrsTrabalhadas = float(input('digite quantas horas por mês:'))\n",
    "totalSalario = salario*hrsTrabalhadas\n",
    "ir = totalSalario * 0.11\n",
    "inss = totalSalario * 0.08\n",
    "sindicato = totalSalario * 0.05\n",
    "\n",
    "print(f'o salario é {totalSalario} teve que dar para o IR {ir}, também para o INSS {inss}, e também ao sindicato {sindicato} ')\n"
   ]
  },
  {
   "cell_type": "markdown",
   "metadata": {},
   "source": [
    "8. Faça uma função que peça um valor e mostre na tela se o valor é positivo ou negativo."
   ]
  },
  {
   "cell_type": "code",
   "execution_count": 27,
   "metadata": {},
   "outputs": [
    {
     "name": "stdout",
     "output_type": "stream",
     "text": [
      "é positivo\n"
     ]
    }
   ],
   "source": [
    "numero = float(input('digite um numero'))\n",
    "if numero>0:\n",
    "    print('é positivo')\n",
    "else:\n",
    "    print('negativo')"
   ]
  },
  {
   "cell_type": "markdown",
   "metadata": {},
   "source": [
    "9. Faça uma função que imprima na tela apenas os números ímpares entre 1 e 50."
   ]
  },
  {
   "cell_type": "code",
   "execution_count": 25,
   "metadata": {},
   "outputs": [],
   "source": [
    "def impares():\n",
    "    for x in range(50):\n",
    "        if x % 2 == 1:\n",
    "            print(x)\n",
    "\n",
    "impares()    "
   ]
  },
  {
   "cell_type": "markdown",
   "metadata": {},
   "source": [
    "10. Faça uma função que receba dois números inteiros e gere os números inteiros que estão\n",
    "no intervalo compreendido por eles."
   ]
  },
  {
   "cell_type": "code",
   "execution_count": null,
   "metadata": {},
   "outputs": [],
   "source": []
  }
 ],
 "metadata": {
  "kernelspec": {
   "display_name": "Python 3",
   "language": "python",
   "name": "python3"
  },
  "language_info": {
   "codemirror_mode": {
    "name": "ipython",
    "version": 3
   },
   "file_extension": ".py",
   "mimetype": "text/x-python",
   "name": "python",
   "nbconvert_exporter": "python",
   "pygments_lexer": "ipython3",
   "version": "3.12.3"
  }
 },
 "nbformat": 4,
 "nbformat_minor": 2
}
