{
 "cells": [
  {
   "cell_type": "markdown",
   "metadata": {},
   "source": [
    " 1. Escreva uma função que utilize uma variável global para contar o número de vezes que foi chamada. A função deve retornar o número atual de chamadas."
   ]
  },
  {
   "cell_type": "code",
   "execution_count": 1,
   "metadata": {},
   "outputs": [
    {
     "name": "stdout",
     "output_type": "stream",
     "text": [
      "1\n",
      "2\n",
      "3\n"
     ]
    }
   ],
   "source": [
    "x = 0\n",
    "def funcao():\n",
    "    global x \n",
    "    #numero += 1\n",
    "    x = x + 1\n",
    "    print(x)\n",
    "    \n",
    "funcao()\n",
    "funcao()\n",
    "funcao()\n"
   ]
  },
  {
   "cell_type": "markdown",
   "metadata": {},
   "source": [
    "2. Crie um algoritmo que receba em variável global o valor atual do dólar e do euro, crie uma função que receba o valor a ser convertido e imprima a conversão em dólar e em euro"
   ]
  },
  {
   "cell_type": "code",
   "execution_count": 14,
   "metadata": {},
   "outputs": [
    {
     "name": "stdout",
     "output_type": "stream",
     "text": [
      "8.333333333333334\n",
      "10.0\n"
     ]
    }
   ],
   "source": [
    "valor_dolar = 5.0\n",
    "valor_euro = 6.0\n",
    "def ConverterValor(real):\n",
    "    dolar_convertido = real / valor_dolar \n",
    "    euro_convertido = real / valor_euro\n",
    "    print(euro_convertido)\n",
    "    print(dolar_convertido)\n",
    "\n",
    "ConverterValor(50)"
   ]
  },
  {
   "cell_type": "markdown",
   "metadata": {},
   "source": [
    "3. Escreva uma função que recebe um nome e o adicione a uma lista de nomes global. Em seguida, escreva outra função que remova um elemento dessa lista global recebendo o nome."
   ]
  },
  {
   "cell_type": "code",
   "execution_count": 4,
   "metadata": {},
   "outputs": [
    {
     "name": "stdout",
     "output_type": "stream",
     "text": [
      "['marcos já que eu fiz']\n",
      "['marcos já que eu fiz', 'douglas']\n",
      "['marcos já que eu fiz']\n"
     ]
    }
   ],
   "source": [
    "listaNomes = []\n",
    "\n",
    "def Adicionar(nome) :\n",
    "    listaNomes.append(nome)\n",
    "    print(listaNomes)\n",
    "\n",
    "def Remover(nome):\n",
    "    listaNomes.remove(nome)\n",
    "    print(listaNomes)\n",
    "\n",
    "Adicionar('marcos já que eu fiz')\n",
    "Adicionar('douglas')\n",
    "Remover('douglas')"
   ]
  },
  {
   "cell_type": "markdown",
   "metadata": {},
   "source": [
    "4. Crie um caixa eletrônico: Crie uma variável global para armazenar o saldo, crie função para depositar e sacar, recebendo o valor como parâmetro, crie outra função para consultar o saldo. Crie um menu interativo com while para navegar entre as funções:\n",
    "[1] Depositar [4] Parar programa\n",
    "[2] Sacar\n",
    "[3] Consultar saldo"
   ]
  },
  {
   "cell_type": "code",
   "execution_count": 5,
   "metadata": {},
   "outputs": [
    {
     "name": "stdout",
     "output_type": "stream",
     "text": [
      "menu\n",
      "[1] Depositar\n",
      "[2] sacar\n",
      "[3] consultar\n",
      "[4] sair\n"
     ]
    }
   ],
   "source": [
    "saldo = 0 \n",
    "def depositar(valor):\n",
    "    global saldo \n",
    "    saldo = saldo + valor\n",
    "def Sacar(valor):\n",
    "    global saldo\n",
    "    saldo = saldo - valor\n",
    "def ConsultarSaldo():\n",
    "    print(f'seu saldo R$ {saldo:.2f}')\n",
    "while True:\n",
    "    print('menu')\n",
    "    print('[1] Depositar')\n",
    "    print('[2] sacar')\n",
    "    print('[3] consultar')\n",
    "    print('[4] sair')\n",
    "    opcao = input('digite a opção do menu')\n",
    "    if opcao == '1':\n",
    "        valor = float(input('digite o valor para depositar:'))\n",
    "        depositar(valor)\n",
    "    elif opcao == '2':\n",
    "        valor = float(input('digite o valor para sacar:'))\n",
    "        Sacar(valor)\n",
    "    elif opcao == '3':\n",
    "        ConsultarSaldo()\n",
    "    else:\n",
    "        break"
   ]
  },
  {
   "cell_type": "markdown",
   "metadata": {},
   "source": [
    "5. Desenhando um retângulo. Crie um algoritmo que receba em variável global um caractere\n",
    "especial. Em uma função receba 2 parâmetros altura e largura e desenhe de acordo com a\n",
    "largura, a quantidade de vezes que irá repetir o caractere, e de acordo com a altura, o número\n",
    "de linhas que será desenhado. Ex: Caractere +, largura 20 altura 5:\n",
    "\n",
    "++++++++++++++++++++\n",
    "++++++++++++++++++++\n",
    "++++++++++++++++++++\n",
    "++++++++++++++++++++\n",
    "++++++++++++++++++++"
   ]
  },
  {
   "cell_type": "code",
   "execution_count": 14,
   "metadata": {},
   "outputs": [
    {
     "name": "stdout",
     "output_type": "stream",
     "text": [
      "####################\n",
      "####################\n",
      "####################\n",
      "####################\n",
      "####################\n"
     ]
    }
   ],
   "source": [
    "caractere = '#'\n",
    "def desenharForma(l, a) :\n",
    "    global caractere\n",
    "    for i in range(a):\n",
    "        print(caractere * l)\n",
    "\n",
    "desenharForma(20,5)"
   ]
  }
 ],
 "metadata": {
  "kernelspec": {
   "display_name": "Python 3",
   "language": "python",
   "name": "python3"
  },
  "language_info": {
   "codemirror_mode": {
    "name": "ipython",
    "version": 3
   },
   "file_extension": ".py",
   "mimetype": "text/x-python",
   "name": "python",
   "nbconvert_exporter": "python",
   "pygments_lexer": "ipython3",
   "version": "3.12.3"
  }
 },
 "nbformat": 4,
 "nbformat_minor": 2
}
