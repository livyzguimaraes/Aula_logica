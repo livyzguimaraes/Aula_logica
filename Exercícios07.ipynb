{
 "cells": [
  {
   "cell_type": "markdown",
   "metadata": {},
   "source": [
    "1- Crie uma lista de filmes com 7 filmes a sua escolha, e faça as seguintes operações com ela:"
   ]
  },
  {
   "cell_type": "code",
   "execution_count": 3,
   "metadata": {},
   "outputs": [
    {
     "name": "stdout",
     "output_type": "stream",
     "text": [
      "Homem Aranha\n",
      "Hulk\n",
      "['Homem Aranha', 'Thor', 'Deadpool', 'Hulk', 'Batman', 'capitao america', 'Frozen']\n",
      "['Homem Aranha', 'Thor', 'Deadpool', 'Hulk', 'Batman', 'capitao america', 'Frozen', 'barbie']\n",
      "['Homem Aranha', 'Thor', 'Deadpool', 'Hulk', 'Batman', 'Branca de neve', 'capitao america', 'Frozen', 'barbie']\n",
      "['Thor', 'Deadpool', 'Hulk', 'Batman', 'Branca de neve', 'capitao america', 'Frozen', 'barbie']\n",
      "['Thor', 'Deadpool', 'Hulk', 'Batman', 'Branca de neve', 'capitao america', 'Frozen']\n",
      "['Thor', 'Deadpool', 'Hulk']\n",
      "['Batman', 'Branca de neve', 'capitao america', 'Frozen']\n",
      "7\n",
      "['Frozen', 'capitao america', 'Branca de neve', 'Batman', 'Hulk', 'Deadpool', 'Thor']\n"
     ]
    }
   ],
   "source": [
    "#exiba o primeiro filme da lista\n",
    "filmes = ['Homem Aranha','Thor', 'Deadpool', 'Hulk', 'Batman', 'capitao america', 'homem de ferro'] \n",
    "print(filmes[0])\n",
    "\n",
    "# Exiba o filme da posição 4\n",
    "print(filmes[3])\n",
    "\n",
    "\n",
    "# Substitua o filme da última posição e exiba a lista\n",
    "filmes[6] = 'Frozen'\n",
    "print(filmes)\n",
    "\n",
    "# Insira um novo filme no final da lista e exiba a lista\n",
    "filmes.append('barbie')\n",
    "print(filmes)\n",
    "\n",
    "\n",
    "# Insira um novo filme na posição 5 e exiba a lista\n",
    "filmes.insert(5, 'Branca de neve')\n",
    "print(filmes)\n",
    "\n",
    "# Exclua o primeiro filme e exiba a lista\n",
    "filmes.pop(0)\n",
    "print(filmes)\n",
    "\n",
    "# Exclua o último filme e exiba a lista\n",
    "filmes.pop(7)\n",
    "print(filmes)\n",
    "\n",
    "# Exiba os 3 primeiros filmes da lista\n",
    "print(filmes[0:3]) \n",
    "\n",
    "# Exiba os 4 últimos filmes da lista\n",
    "print(filmes[3:7])\n",
    "\n",
    "# Exiba a quantidade de filmes atualmente na lista\n",
    "print(len(filmes))\n",
    "\n",
    "# Ordene os filmes em ordem decrescente e exiba-os\n",
    "filmes.reverse()\n",
    "print(filmes)"
   ]
  },
  {
   "cell_type": "markdown",
   "metadata": {},
   "source": [
    "2. Crie uma lista com os 20 times do campeonato brasileiro de futebol\n",
    "• Exiba o primeiro time da lista como campeão\n",
    "• Exiba os 4 primeiros times como que irão jogar a libertadores\n",
    "• Exiba os 4 últimos times como os que estão rebaixados para a série B"
   ]
  }
 ],
 "metadata": {
  "kernelspec": {
   "display_name": "Python 3",
   "language": "python",
   "name": "python3"
  },
  "language_info": {
   "codemirror_mode": {
    "name": "ipython",
    "version": 3
   },
   "file_extension": ".py",
   "mimetype": "text/x-python",
   "name": "python",
   "nbconvert_exporter": "python",
   "pygments_lexer": "ipython3",
   "version": "3.12.3"
  }
 },
 "nbformat": 4,
 "nbformat_minor": 2
}
